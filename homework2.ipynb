{
  "nbformat": 4,
  "nbformat_minor": 0,
  "metadata": {
    "anaconda-cloud": {},
    "kernelspec": {
      "display_name": "Python 2",
      "language": "python",
      "name": "python2"
    },
    "language_info": {
      "codemirror_mode": {
        "name": "ipython",
        "version": 2
      },
      "file_extension": ".py",
      "mimetype": "text/x-python",
      "name": "python",
      "nbconvert_exporter": "python",
      "pygments_lexer": "ipython2",
      "version": "2.7.15"
    },
    "colab": {
      "name": "homework2.ipynb",
      "provenance": [],
      "collapsed_sections": [],
      "include_colab_link": true
    }
  },
  "cells": [
    {
      "cell_type": "markdown",
      "metadata": {
        "id": "view-in-github",
        "colab_type": "text"
      },
      "source": [
        "<a href=\"https://colab.research.google.com/github/blee8/work/blob/master/homework2.ipynb\" target=\"_parent\"><img src=\"https://colab.research.google.com/assets/colab-badge.svg\" alt=\"Open In Colab\"/></a>"
      ]
    },
    {
      "cell_type": "markdown",
      "metadata": {
        "id": "ASu-qdgO0wZf",
        "colab_type": "text"
      },
      "source": [
        "# Homework 2 - Berkeley STAT 157\n",
        "\n",
        "Handout 1/29/2019, due 2/5/2019 by 4pm in Git by committing to your repository."
      ]
    },
    {
      "cell_type": "code",
      "metadata": {
        "id": "IPL0yX4Z08Rz",
        "colab_type": "code",
        "colab": {
          "base_uri": "https://localhost:8080/",
          "height": 307
        },
        "outputId": "9f4de992-e309-4551-f87f-d6280c4a07db"
      },
      "source": [
        "#!pip install -U mxnet-cu101mkl==1.6.0  # updating mxnet to at least v1.6\n",
        "!pip install mxnet==1.6.0"
      ],
      "execution_count": 4,
      "outputs": [
        {
          "output_type": "stream",
          "text": [
            "Collecting mxnet==1.6.0\n",
            "\u001b[?25l  Downloading https://files.pythonhosted.org/packages/81/f5/d79b5b40735086ff1100c680703e0f3efc830fa455e268e9e96f3c857e93/mxnet-1.6.0-py2.py3-none-any.whl (68.7MB)\n",
            "\u001b[K     |████████████████████████████████| 68.7MB 48kB/s \n",
            "\u001b[?25hRequirement already satisfied: numpy<2.0.0,>1.16.0 in /usr/local/lib/python2.7/dist-packages (from mxnet==1.6.0) (1.16.4)\n",
            "Requirement already satisfied: requests<3,>=2.20.0 in /usr/local/lib/python2.7/dist-packages (from mxnet==1.6.0) (2.23.0)\n",
            "Requirement already satisfied: graphviz<0.9.0,>=0.8.1 in /usr/local/lib/python2.7/dist-packages (from mxnet==1.6.0) (0.8.4)\n",
            "Requirement already satisfied: urllib3!=1.25.0,!=1.25.1,<1.26,>=1.21.1 in /usr/local/lib/python2.7/dist-packages (from requests<3,>=2.20.0->mxnet==1.6.0) (1.24.3)\n",
            "Requirement already satisfied: chardet<4,>=3.0.2 in /usr/local/lib/python2.7/dist-packages (from requests<3,>=2.20.0->mxnet==1.6.0) (3.0.4)\n",
            "Requirement already satisfied: certifi>=2017.4.17 in /usr/local/lib/python2.7/dist-packages (from requests<3,>=2.20.0->mxnet==1.6.0) (2019.6.16)\n",
            "Requirement already satisfied: idna<3,>=2.5 in /usr/local/lib/python2.7/dist-packages (from requests<3,>=2.20.0->mxnet==1.6.0) (2.8)\n",
            "Installing collected packages: mxnet\n",
            "Successfully installed mxnet-1.6.0\n"
          ],
          "name": "stdout"
        },
        {
          "output_type": "display_data",
          "data": {
            "application/vnd.colab-display-data+json": {
              "pip_warning": {
                "packages": [
                  "mxnet"
                ]
              }
            }
          },
          "metadata": {
            "tags": []
          }
        }
      ]
    },
    {
      "cell_type": "code",
      "metadata": {
        "ExecuteTime": {
          "end_time": "2019-01-29T22:48:56.163323Z",
          "start_time": "2019-01-29T22:48:53.680455Z"
        },
        "id": "zCapqdCr0wZg",
        "colab_type": "code",
        "colab": {
          "base_uri": "https://localhost:8080/",
          "height": 88
        },
        "outputId": "22826e43-be19-4915-ae34-0bd7fd4ee553"
      },
      "source": [
        "from mxnet import nd, autograd, gluon"
      ],
      "execution_count": 2,
      "outputs": [
        {
          "output_type": "stream",
          "text": [
            "/usr/local/lib/python2.7/dist-packages/mxnet/numpy_op_signature.py:61: UserWarning: Some mxnet.numpy operator signatures may not be displayed consistently with their counterparts in the official NumPy package due to too-low Python version 2.7.17 (default, Apr 15 2020, 17:20:14) \n",
            "[GCC 7.5.0]. Python >= 3.5 is required to make the signatures display correctly.\n",
            "  .format(str(sys.version)))\n"
          ],
          "name": "stderr"
        }
      ]
    },
    {
      "cell_type": "markdown",
      "metadata": {
        "ExecuteTime": {
          "end_time": "2019-01-29T19:41:18.204791Z",
          "start_time": "2019-01-29T19:41:18.201091Z"
        },
        "id": "l5QzEIww0wZj",
        "colab_type": "text"
      },
      "source": [
        "# 1. Multinomial Sampling\n",
        "\n",
        "Implement a sampler from a discrete distribution from scratch, mimicking the function `mxnet.ndarray.random.multinomial`. Its arguments should be a vector of probabilities $p$. You can assume that the probabilities are normalized, i.e. tha they sum up to $1$. Make the call signature as follows:\n",
        "\n",
        "```\n",
        "samples = sampler(probs, shape) \n",
        "\n",
        "probs   : An ndarray vector of size n of nonnegative numbers summing up to 1\n",
        "shape   : A list of dimensions for the output\n",
        "samples : Samples from probs with shape matching shape\n",
        "```\n",
        "\n",
        "Hints:\n",
        "\n",
        "1. Use `mxnet.ndarray.random.uniform` to get a sample from $U[0,1]$.\n",
        "1. You can simplify things for `probs` by computing the cumulative sum over `probs`."
      ]
    },
    {
      "cell_type": "code",
      "metadata": {
        "id": "b3gauuko_b3T",
        "colab_type": "code",
        "colab": {
          "base_uri": "https://localhost:8080/",
          "height": 88
        },
        "outputId": "3d00b281-8cdf-45c3-f2e0-ce19798d299c"
      },
      "source": [
        "from mxnet import ndarray as nd"
      ],
      "execution_count": 3,
      "outputs": [
        {
          "output_type": "stream",
          "text": [
            "/usr/local/lib/python2.7/dist-packages/mxnet/numpy_op_signature.py:61: UserWarning: Some mxnet.numpy operator signatures may not be displayed consistently with their counterparts in the official NumPy package due to too-low Python version 2.7.17 (default, Apr 15 2020, 17:20:14) \n",
            "[GCC 7.5.0]. Python >= 3.5 is required to make the signatures display correctly.\n",
            "  .format(str(sys.version)))\n"
          ],
          "name": "stderr"
        }
      ]
    },
    {
      "cell_type": "code",
      "metadata": {
        "ExecuteTime": {
          "end_time": "2019-01-29T22:48:56.185124Z",
          "start_time": "2019-01-29T22:48:56.165645Z"
        },
        "id": "_wjtLlQy0wZj",
        "colab_type": "code",
        "colab": {
          "base_uri": "https://localhost:8080/",
          "height": 85
        },
        "outputId": "aed0fccd-4421-4e61-9a34-32037a7a1a65"
      },
      "source": [
        "def sampler(probs, shape):\n",
        "    ## Add your codes here\n",
        "    return nd.zeros(shape)\n",
        "\n",
        "# a simple test\n",
        "sampler(nd.array([0.2, 0.3, 0.5]), (2,3))"
      ],
      "execution_count": 3,
      "outputs": [
        {
          "output_type": "execute_result",
          "data": {
            "text/plain": [
              "\n",
              "[[0. 0. 0.]\n",
              " [0. 0. 0.]]\n",
              "<NDArray 2x3 @cpu(0)>"
            ]
          },
          "metadata": {
            "tags": []
          },
          "execution_count": 3
        }
      ]
    },
    {
      "cell_type": "code",
      "metadata": {
        "id": "dPM1c9jEBqW1",
        "colab_type": "code",
        "colab": {
          "base_uri": "https://localhost:8080/",
          "height": 85
        },
        "outputId": "1f5aab2f-1178-4298-b934-20e076bdd648"
      },
      "source": [
        "    sum = nd.zeros(shape=(2,2))\n",
        "sum"
      ],
      "execution_count": 5,
      "outputs": [
        {
          "output_type": "execute_result",
          "data": {
            "text/plain": [
              "\n",
              "[[0. 0.]\n",
              " [0. 0.]]\n",
              "<NDArray 2x2 @cpu(0)>"
            ]
          },
          "metadata": {
            "tags": []
          },
          "execution_count": 5
        }
      ]
    },
    {
      "cell_type": "code",
      "metadata": {
        "id": "zM6UdQQ1ADiz",
        "colab_type": "code",
        "colab": {}
      },
      "source": [
        "def sampler1(probs, shape):\n",
        "    ## Add your codes here\n",
        "    #print(probs)\n",
        "    #sum = nd.zeros(shape)\n",
        "    sum = probs\n",
        "    print sum\n",
        "    return sum "
      ],
      "execution_count": 22,
      "outputs": []
    },
    {
      "cell_type": "code",
      "metadata": {
        "id": "uwiKnmRq-2K8",
        "colab_type": "code",
        "colab": {
          "base_uri": "https://localhost:8080/",
          "height": 85
        },
        "outputId": "32444d3e-6f85-42d9-acfe-05de4e7117a0"
      },
      "source": [
        "U = nd.random.uniform(shape=(10))\n",
        "type(U)\n",
        "U"
      ],
      "execution_count": 9,
      "outputs": [
        {
          "output_type": "execute_result",
          "data": {
            "text/plain": [
              "\n",
              "[0.5488135  0.5928446  0.71518934 0.84426576 0.60276335 0.8579456\n",
              " 0.5448832  0.8472517  0.4236548  0.6235637 ]\n",
              "<NDArray 10 @cpu(0)>"
            ]
          },
          "metadata": {
            "tags": []
          },
          "execution_count": 9
        }
      ]
    },
    {
      "cell_type": "code",
      "metadata": {
        "id": "_XIjhrW1_x6q",
        "colab_type": "code",
        "colab": {
          "base_uri": "https://localhost:8080/",
          "height": 164
        },
        "outputId": "49313b42-a994-4b12-c751-5e02b54f0e70"
      },
      "source": [
        "sampler1(U, (2,5))"
      ],
      "execution_count": 8,
      "outputs": [
        {
          "output_type": "error",
          "ename": "NameError",
          "evalue": "ignored",
          "traceback": [
            "\u001b[0;31m\u001b[0m",
            "\u001b[0;31mNameError\u001b[0mTraceback (most recent call last)",
            "\u001b[0;32m<ipython-input-8-6490a800e7f0>\u001b[0m in \u001b[0;36m<module>\u001b[0;34m()\u001b[0m\n\u001b[0;32m----> 1\u001b[0;31m \u001b[0msampler1\u001b[0m\u001b[0;34m(\u001b[0m\u001b[0mU\u001b[0m\u001b[0;34m,\u001b[0m \u001b[0;34m(\u001b[0m\u001b[0;36m2\u001b[0m\u001b[0;34m,\u001b[0m\u001b[0;36m5\u001b[0m\u001b[0;34m)\u001b[0m\u001b[0;34m)\u001b[0m\u001b[0;34m\u001b[0m\u001b[0m\n\u001b[0m",
            "\u001b[0;31mNameError\u001b[0m: name 'sampler1' is not defined"
          ]
        }
      ]
    },
    {
      "cell_type": "code",
      "metadata": {
        "id": "F_YYK9C4DFRF",
        "colab_type": "code",
        "colab": {
          "base_uri": "https://localhost:8080/",
          "height": 136
        },
        "outputId": "a37692d5-b589-44bf-c899-7ff7937c744a"
      },
      "source": [
        "s = nd.zeros(shape=(2,2))\n",
        "print(s)\n",
        "s  = U[0:4]\n",
        "s"
      ],
      "execution_count": 12,
      "outputs": [
        {
          "output_type": "stream",
          "text": [
            "\n",
            "[[0. 0.]\n",
            " [0. 0.]]\n",
            "<NDArray 2x2 @cpu(0)>\n"
          ],
          "name": "stdout"
        },
        {
          "output_type": "execute_result",
          "data": {
            "text/plain": [
              "\n",
              "[0.5488135  0.5928446  0.71518934 0.84426576]\n",
              "<NDArray 4 @cpu(0)>"
            ]
          },
          "metadata": {
            "tags": []
          },
          "execution_count": 12
        }
      ]
    },
    {
      "cell_type": "markdown",
      "metadata": {
        "id": "mted6D020wZm",
        "colab_type": "text"
      },
      "source": [
        "# 2. Central Limit Theorem\n",
        "\n",
        "Let's explore the Central Limit Theorem when applied to text processing. \n",
        "\n",
        "* Download [https://www.gutenberg.org/ebooks/84](https://www.gutenberg.org/files/84/84-0.txt) from Project Gutenberg \n",
        "* Remove punctuation, uppercase / lowercase, and split the text up into individual tokens (words).\n",
        "* For the words `a`, `and`, `the`, `i`, `is` compute their respective counts as the book progresses, i.e. \n",
        "    $$n_\\mathrm{the}[i] = \\sum_{j = 1}^i \\{w_j = \\mathrm{the}\\}$$\n",
        "* Plot the proportions $n_\\mathrm{word}[i] / i$ over the document in one plot.\n",
        "* Find an envelope of the shape $O(1/\\sqrt{i})$ for each of these five words. (Hint, check the last page of the [sampling notebook](http://courses.d2l.ai/berkeley-stat-157/slides/1_24/sampling.pdf))\n",
        "* Why can we **not** apply the Central Limit Theorem directly? \n",
        "* How would we have to change the text for it to apply? \n",
        "* Why does it still work quite well?"
      ]
    },
    {
      "cell_type": "code",
      "metadata": {
        "ExecuteTime": {
          "end_time": "2019-01-29T22:48:56.200892Z",
          "start_time": "2019-01-29T22:48:56.188145Z"
        },
        "id": "2KyKYYHp0wZm",
        "colab_type": "code",
        "colab": {},
        "outputId": "bbeb767e-3828-4c24-caa8-fa4fc82b9740"
      },
      "source": [
        "filename = gluon.utils.download('https://www.gutenberg.org/files/84/84-0.txt')\n",
        "with open(filename) as f:\n",
        "    book = f.read()\n",
        "print(book[0:100])\n",
        "\n",
        "## Add your codes here"
      ],
      "execution_count": null,
      "outputs": [
        {
          "output_type": "stream",
          "text": [
            "﻿\n",
            "Project Gutenberg's Frankenstein, by Mary Wollstonecraft (Godwin) Shelley\n",
            "\n",
            "This eBook is for the u\n"
          ],
          "name": "stdout"
        }
      ]
    },
    {
      "cell_type": "markdown",
      "metadata": {
        "id": "-oZtFFmJ0wZo",
        "colab_type": "text"
      },
      "source": [
        "## 3. Denominator-layout notation\n",
        "\n",
        "We used the numerator-layout notation for matrix calculus in class, now let's examine the denominator-layout notation.\n",
        "\n",
        "Given $x, y\\in\\mathbb R$, $\\mathbf x\\in\\mathbb R^n$ and $\\mathbf y \\in \\mathbb R^m$, we have\n",
        "\n",
        "$$\n",
        "\\frac{\\partial y}{\\partial \\mathbf{x}}=\\begin{bmatrix}\n",
        "\\frac{\\partial y}{\\partial x_1}\\\\\n",
        "\\frac{\\partial y}{\\partial x_2}\\\\\n",
        "\\vdots\\\\\n",
        "\\frac{\\partial y}{\\partial x_n}\n",
        "\\end{bmatrix},\\quad \n",
        "\\frac{\\partial \\mathbf y}{\\partial {x}}=\\begin{bmatrix}\n",
        "\\frac{\\partial y_1}{\\partial x}, \n",
        "\\frac{\\partial y_2}{\\partial x}, \n",
        "\\ldots,\n",
        "\\frac{\\partial y_m}{\\partial x}\n",
        "\\end{bmatrix}\n",
        "$$\n",
        "\n",
        "and \n",
        "\n",
        "$$\n",
        "\\frac{\\partial \\mathbf y}{\\partial \\mathbf{x}}\n",
        "=\\begin{bmatrix}\n",
        "\\frac{\\partial \\mathbf y}{\\partial {x_1}}\\\\\n",
        "\\frac{\\partial \\mathbf y}{\\partial {x_2}}\\\\\n",
        "\\vdots\\\\\n",
        "\\frac{\\partial \\mathbf y}{\\partial {x_3}}\\\\\n",
        "\\end{bmatrix}\n",
        "=\\begin{bmatrix}\n",
        "\\frac{\\partial y_1}{\\partial x_1}, \n",
        "\\frac{\\partial y_2}{\\partial x_1},\n",
        "\\ldots,\n",
        "\\frac{\\partial y_m}{\\partial x_1}\n",
        "\\\\ \n",
        "\\frac{\\partial y_1}{\\partial x_2},\n",
        "\\frac{\\partial y_2}{\\partial x_2},\n",
        "\\ldots,\n",
        "\\frac{\\partial y_m}{\\partial x_2}\\\\ \n",
        "\\vdots\\\\\n",
        "\\frac{\\partial y_1}{\\partial x_n},\n",
        "\\frac{\\partial y_2}{\\partial x_n},\n",
        "\\ldots,\n",
        "\\frac{\\partial y_m}{\\partial x_n}\n",
        "\\end{bmatrix}\n",
        "$$\n",
        "\n",
        "Questions: \n",
        "\n",
        "1. Assume $\\mathbf  y = f(\\mathbf u)$ and $\\mathbf u = g(\\mathbf x)$, write down the chain rule for $\\frac {\\partial\\mathbf  y}{\\partial\\mathbf x}$\n",
        "2. Given $\\mathbf X \\in \\mathbb R^{m\\times n},\\ \\mathbf w \\in \\mathbb R^n, \\ \\mathbf y \\in \\mathbb R^m$, assume $z = \\| \\mathbf X \\mathbf w - \\mathbf y\\|^2$, compute $\\frac{\\partial z}{\\partial\\mathbf w}$."
      ]
    },
    {
      "cell_type": "markdown",
      "metadata": {
        "id": "Cc_hJdcN0wZp",
        "colab_type": "text"
      },
      "source": [
        "## 4. Numerical Precision\n",
        "\n",
        "Given scalars `x` and `y`, implement the following `log_exp` function such that it returns \n",
        "$$-\\log\\left(\\frac{e^x}{e^x+e^y}\\right)$$."
      ]
    },
    {
      "cell_type": "code",
      "metadata": {
        "ExecuteTime": {
          "end_time": "2019-01-29T22:48:56.206890Z",
          "start_time": "2019-01-29T22:48:56.202996Z"
        },
        "id": "XgYHs3pl0wZp",
        "colab_type": "code",
        "colab": {}
      },
      "source": [
        "def log_exp(x, y):\n",
        "    ## add your solution here\n",
        "    pass"
      ],
      "execution_count": null,
      "outputs": []
    },
    {
      "cell_type": "markdown",
      "metadata": {
        "id": "Ir9hWVAE0wZr",
        "colab_type": "text"
      },
      "source": [
        "Test your codes with normal inputs:"
      ]
    },
    {
      "cell_type": "code",
      "metadata": {
        "ExecuteTime": {
          "end_time": "2019-01-29T22:48:56.215579Z",
          "start_time": "2019-01-29T22:48:56.209659Z"
        },
        "id": "oEVFjro90wZr",
        "colab_type": "code",
        "colab": {}
      },
      "source": [
        "x, y = nd.array([2]), nd.array([3])\n",
        "z = log_exp(x, y)\n",
        "z"
      ],
      "execution_count": null,
      "outputs": []
    },
    {
      "cell_type": "markdown",
      "metadata": {
        "id": "aMq2YW2x0wZt",
        "colab_type": "text"
      },
      "source": [
        "Now implement a function to compute $\\partial z/\\partial x$ and $\\partial z/\\partial y$ with `autograd`"
      ]
    },
    {
      "cell_type": "code",
      "metadata": {
        "ExecuteTime": {
          "end_time": "2019-01-29T22:48:56.223303Z",
          "start_time": "2019-01-29T22:48:56.218056Z"
        },
        "id": "IwyZvv5K0wZu",
        "colab_type": "code",
        "colab": {}
      },
      "source": [
        "def grad(forward_func, x, y): \n",
        "    ## Add your codes here\n",
        "    print('x.grad =', x.grad)\n",
        "    print('y.grad =', y.grad)"
      ],
      "execution_count": null,
      "outputs": []
    },
    {
      "cell_type": "markdown",
      "metadata": {
        "id": "iYvEkLOl0wZw",
        "colab_type": "text"
      },
      "source": [
        "Test your codes, it should print the results nicely. "
      ]
    },
    {
      "cell_type": "code",
      "metadata": {
        "ExecuteTime": {
          "end_time": "2019-01-29T22:48:56.267165Z",
          "start_time": "2019-01-29T22:48:56.227035Z"
        },
        "id": "wgtfeFTW0wZw",
        "colab_type": "code",
        "colab": {},
        "outputId": "1bca9804-b3d9-4e66-f0d4-70348af74dd8"
      },
      "source": [
        "grad(log_exp, x, y)"
      ],
      "execution_count": null,
      "outputs": [
        {
          "output_type": "stream",
          "text": [
            "x.grad = None\n",
            "y.grad = None\n"
          ],
          "name": "stdout"
        }
      ]
    },
    {
      "cell_type": "markdown",
      "metadata": {
        "id": "89Z8gNIf0wZy",
        "colab_type": "text"
      },
      "source": [
        "But now let's try some \"hard\" inputs"
      ]
    },
    {
      "cell_type": "code",
      "metadata": {
        "ExecuteTime": {
          "end_time": "2019-01-29T22:48:56.285842Z",
          "start_time": "2019-01-29T22:48:56.274079Z"
        },
        "id": "kgaQwnZ70wZ0",
        "colab_type": "code",
        "colab": {},
        "outputId": "e8276e9a-b468-49e3-a7e6-efbfd98eb850"
      },
      "source": [
        "x, y = nd.array([50]), nd.array([100])\n",
        "grad(log_exp, x, y)"
      ],
      "execution_count": null,
      "outputs": [
        {
          "output_type": "stream",
          "text": [
            "x.grad = None\n",
            "y.grad = None\n"
          ],
          "name": "stdout"
        }
      ]
    },
    {
      "cell_type": "markdown",
      "metadata": {
        "id": "7G0gBjMY0wZ2",
        "colab_type": "text"
      },
      "source": [
        "Does your code return correct results? If not, try to understand the reason. (Hint, evaluate `exp(100)`). Now develop a new function `stable_log_exp` that is identical to `log_exp` in math, but returns a more numerical stable result."
      ]
    },
    {
      "cell_type": "code",
      "metadata": {
        "ExecuteTime": {
          "end_time": "2019-01-29T22:48:56.305595Z",
          "start_time": "2019-01-29T22:48:56.293399Z"
        },
        "id": "Nhp1iGFs0wZ2",
        "colab_type": "code",
        "colab": {},
        "outputId": "3444fa87-b858-43f6-9273-b584e78b6535"
      },
      "source": [
        "def stable_log_exp(x, y):\n",
        "    ## Add your codes here\n",
        "    pass\n",
        "\n",
        "grad(stable_log_exp, x, y)"
      ],
      "execution_count": null,
      "outputs": [
        {
          "output_type": "stream",
          "text": [
            "x.grad = None\n",
            "y.grad = None\n"
          ],
          "name": "stdout"
        }
      ]
    },
    {
      "cell_type": "code",
      "metadata": {
        "id": "00oPqdJ70wZ4",
        "colab_type": "code",
        "colab": {}
      },
      "source": [
        ""
      ],
      "execution_count": null,
      "outputs": []
    }
  ]
}