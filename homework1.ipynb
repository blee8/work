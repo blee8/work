{
  "nbformat": 4,
  "nbformat_minor": 0,
  "metadata": {
    "celltoolbar": "Slideshow",
    "kernelspec": {
      "display_name": "Python 3",
      "language": "python",
      "name": "python3"
    },
    "language_info": {
      "codemirror_mode": {
        "name": "ipython",
        "version": 3
      },
      "file_extension": ".py",
      "mimetype": "text/x-python",
      "name": "python",
      "nbconvert_exporter": "python",
      "pygments_lexer": "ipython3",
      "version": "3.7.0"
    },
    "colab": {
      "name": "homework1.ipynb",
      "provenance": [],
      "collapsed_sections": [
        "EhMFp7irM8d-",
        "mXbjKT6jH1v2"
      ],
      "include_colab_link": true
    },
    "accelerator": "GPU"
  },
  "cells": [
    {
      "cell_type": "markdown",
      "metadata": {
        "id": "view-in-github",
        "colab_type": "text"
      },
      "source": [
        "<a href=\"https://colab.research.google.com/github/blee8/work/blob/master/homework1.ipynb\" target=\"_parent\"><img src=\"https://colab.research.google.com/assets/colab-badge.svg\" alt=\"Open In Colab\"/></a>"
      ]
    },
    {
      "cell_type": "markdown",
      "metadata": {
        "id": "PdaTyHrE01Or",
        "colab_type": "text"
      },
      "source": [
        "# Homework 1 - Berkeley STAT 157\n",
        "\n",
        "Handout 1/22/2017, due 1/29/2017 by 4pm in Git by committing to your repository. Please ensure that you add the TA Git account to your repository.\n",
        "\n",
        "1. Write all code in the notebook.\n",
        "1. Write all text in the notebook. You can use MathJax to insert math or generic Markdown to insert figures (it's unlikely you'll need the latter). \n",
        "1. **Execute** the notebook and **save** the results.\n",
        "1. To be safe, print the notebook as PDF and add it to the repository, too. Your repository should contain two files: ``homework1.ipynb`` and ``homework1.pdf``. \n",
        "\n",
        "The TA will return the corrected and annotated homework back to you via Git (please give `rythei` access to your repository)."
      ]
    },
    {
      "cell_type": "code",
      "metadata": {
        "id": "0BtutotC2FVH",
        "colab_type": "code",
        "colab": {
          "base_uri": "https://localhost:8080/",
          "height": 309
        },
        "outputId": "6ad9416b-0e72-4a0a-abdd-2d91761dae9b"
      },
      "source": [
        "!pip install -U mxnet-cu101mkl==1.6.0  # updating mxnet to at least v1.6"
      ],
      "execution_count": null,
      "outputs": [
        {
          "output_type": "stream",
          "text": [
            "Collecting mxnet-cu101mkl==1.6.0\n",
            "\u001b[?25l  Downloading https://files.pythonhosted.org/packages/3d/4b/e51dc49ca5fe6564028e7c91b10a3f79c00d710dd691b408c77597df5883/mxnet_cu101mkl-1.6.0-py2.py3-none-manylinux1_x86_64.whl (711.0MB)\n",
            "\u001b[K     |████████████████████████████████| 711.0MB 26kB/s \n",
            "\u001b[?25hRequirement already satisfied, skipping upgrade: requests<3,>=2.20.0 in /usr/local/lib/python3.6/dist-packages (from mxnet-cu101mkl==1.6.0) (2.23.0)\n",
            "Requirement already satisfied, skipping upgrade: numpy<2.0.0,>1.16.0 in /usr/local/lib/python3.6/dist-packages (from mxnet-cu101mkl==1.6.0) (1.18.5)\n",
            "Collecting graphviz<0.9.0,>=0.8.1\n",
            "  Downloading https://files.pythonhosted.org/packages/53/39/4ab213673844e0c004bed8a0781a0721a3f6bb23eb8854ee75c236428892/graphviz-0.8.4-py2.py3-none-any.whl\n",
            "Requirement already satisfied, skipping upgrade: urllib3!=1.25.0,!=1.25.1,<1.26,>=1.21.1 in /usr/local/lib/python3.6/dist-packages (from requests<3,>=2.20.0->mxnet-cu101mkl==1.6.0) (1.24.3)\n",
            "Requirement already satisfied, skipping upgrade: idna<3,>=2.5 in /usr/local/lib/python3.6/dist-packages (from requests<3,>=2.20.0->mxnet-cu101mkl==1.6.0) (2.9)\n",
            "Requirement already satisfied, skipping upgrade: certifi>=2017.4.17 in /usr/local/lib/python3.6/dist-packages (from requests<3,>=2.20.0->mxnet-cu101mkl==1.6.0) (2020.6.20)\n",
            "Requirement already satisfied, skipping upgrade: chardet<4,>=3.0.2 in /usr/local/lib/python3.6/dist-packages (from requests<3,>=2.20.0->mxnet-cu101mkl==1.6.0) (3.0.4)\n",
            "Installing collected packages: graphviz, mxnet-cu101mkl\n",
            "  Found existing installation: graphviz 0.10.1\n",
            "    Uninstalling graphviz-0.10.1:\n",
            "      Successfully uninstalled graphviz-0.10.1\n",
            "Successfully installed graphviz-0.8.4 mxnet-cu101mkl-1.6.0\n"
          ],
          "name": "stdout"
        }
      ]
    },
    {
      "cell_type": "code",
      "metadata": {
        "ExecuteTime": {
          "end_time": "2019-01-22T19:57:47.188990Z",
          "start_time": "2019-01-22T19:57:46.107420Z"
        },
        "id": "Z8NWTB_401Os",
        "colab_type": "code",
        "colab": {}
      },
      "source": [
        "from mxnet import ndarray as nd\n",
        "import mxnet as mx\n",
        "import numpy as np\n",
        "import time"
      ],
      "execution_count": null,
      "outputs": []
    },
    {
      "cell_type": "markdown",
      "metadata": {
        "id": "w8UCnLp401Ov",
        "colab_type": "text"
      },
      "source": [
        "## 1. Speedtest for vectorization\n",
        "\n",
        "Your goal is to measure the speed of linear algebra operations for different levels of vectorization. You need to use `wait_to_read()` on the output to ensure that the result is computed completely, since NDArray uses asynchronous computation. Please see http://beta.mxnet.io/api/ndarray/_autogen/mxnet.ndarray.NDArray.wait_to_read.html for details. \n",
        "\n",
        "1. Construct two matrices $A$ and $B$ with Gaussian random entries of size $4096 \\times 4096$. \n",
        "1. Compute $C = A B$ using matrix-matrix operations and report the time. \n",
        "1. Compute $C = A B$, treating $A$ as a matrix but computing the result for each column of $B$ one at a time. Report the time.\n",
        "1. Compute $C = A B$, treating $A$ and $B$ as collections of vectors. Report the time.\n",
        "1. Bonus question - what changes if you execute this on a GPU?"
      ]
    },
    {
      "cell_type": "markdown",
      "metadata": {
        "id": "EhMFp7irM8d-",
        "colab_type": "text"
      },
      "source": [
        "## practice"
      ]
    },
    {
      "cell_type": "code",
      "metadata": {
        "id": "1MF8tB8b2pr0",
        "colab_type": "code",
        "colab": {}
      },
      "source": [
        "#A = nd.random.normal(shape=(3,3))\n",
        "A = nd.random.normal(shape=(3,3))\n",
        "#A = nd.random.normal(0, 1, shape=(4096,4096))\n",
        "#B = nd.random.normal(shape=(4096,4096))\n",
        "B = nd.random.normal(shape=(3,3))"
      ],
      "execution_count": null,
      "outputs": []
    },
    {
      "cell_type": "code",
      "metadata": {
        "id": "T37hWhMC01Ov",
        "colab_type": "code",
        "colab": {
          "base_uri": "https://localhost:8080/",
          "height": 102
        },
        "outputId": "65f08cf9-bc5e-4009-f391-701d74f403a1"
      },
      "source": [
        "print(\"A[0:3,0:3]= \", A[0:3,0:3])"
      ],
      "execution_count": null,
      "outputs": [
        {
          "output_type": "stream",
          "text": [
            "A[0:3,0:3]=  \n",
            "[[ 0.01900455  0.49163893  2.1766198 ]\n",
            " [ 2.280913   -0.3245641   0.07877541]\n",
            " [-0.15904595  0.7159357   0.57900923]]\n",
            "<NDArray 3x3 @cpu(0)>\n"
          ],
          "name": "stdout"
        }
      ]
    },
    {
      "cell_type": "code",
      "metadata": {
        "id": "g1yI7eUy4k_G",
        "colab_type": "code",
        "colab": {
          "base_uri": "https://localhost:8080/",
          "height": 34
        },
        "outputId": "014acbc7-7e10-486a-878f-f4c559a6dacc"
      },
      "source": [
        "tic = time.time()\n",
        "#C = A * B\n",
        "C = nd.dot(A, B)\n",
        "C.wait_to_read()\n",
        "print(\"Matrix by matrix: \" + str(time.time() - tic) + \" seconds\")"
      ],
      "execution_count": null,
      "outputs": [
        {
          "output_type": "stream",
          "text": [
            "Matrix by matrix: 2.1434521675109863 seconds\n"
          ],
          "name": "stdout"
        }
      ]
    },
    {
      "cell_type": "code",
      "metadata": {
        "id": "uQyZg17K6AzW",
        "colab_type": "code",
        "colab": {
          "base_uri": "https://localhost:8080/",
          "height": 187
        },
        "outputId": "049397e8-17c7-4098-d7bf-38a71fb64289"
      },
      "source": [
        "print(\"C[0:3,0:3]= \", C[0:3,0:3])\n",
        "print(\"A[0:3,0:3]= \", A[0:3,0:3])"
      ],
      "execution_count": null,
      "outputs": [
        {
          "output_type": "stream",
          "text": [
            "C[0:3,0:3]=  \n",
            "[[ 2.4561853   0.86430275  0.5033209 ]\n",
            " [-0.23248437  1.8802661   5.0104384 ]\n",
            " [ 0.58825064  0.7020131  -0.19487117]]\n",
            "<NDArray 3x3 @cpu(0)>\n",
            "A[0:3,0:3]=  \n",
            "[[ 0.01900455  0.49163893  2.1766198 ]\n",
            " [ 2.280913   -0.3245641   0.07877541]\n",
            " [-0.15904595  0.7159357   0.57900923]]\n",
            "<NDArray 3x3 @cpu(0)>\n"
          ],
          "name": "stdout"
        }
      ]
    },
    {
      "cell_type": "code",
      "metadata": {
        "colab_type": "code",
        "id": "HAwYHQdj71eO",
        "colab": {}
      },
      "source": [
        "tic = time.time()\n",
        "D = A * B\n",
        "#C = nd.dot(A, B)\n",
        "#D = np.matmul(A,B)\n",
        "#D.wait_to_read()\n",
        "#print(\"Matrix by matrix: \" + str(time.time() - tic) + \" seconds\")"
      ],
      "execution_count": null,
      "outputs": []
    },
    {
      "cell_type": "code",
      "metadata": {
        "id": "AhrdW3kF71Gn",
        "colab_type": "code",
        "colab": {
          "base_uri": "https://localhost:8080/",
          "height": 170
        },
        "outputId": "0ed99436-1f58-4a34-f07b-b3aab841e755"
      },
      "source": [
        "print(\"D[0:2,0:2]= \", D )\n",
        "print(\"A[0,0]= \", A[0:2,0:2])"
      ],
      "execution_count": null,
      "outputs": [
        {
          "output_type": "stream",
          "text": [
            "D[0:2,0:2]=  \n",
            "[[-3.12780053e-03  4.78354901e-01  4.78318453e+00]\n",
            " [-3.59138817e-01 -3.50417763e-01  4.28863056e-03]\n",
            " [-1.85358793e-01  1.03613526e-01  1.15660436e-01]]\n",
            "<NDArray 3x3 @cpu(0)>\n",
            "A[0,0]=  \n",
            "[[ 0.01900455  0.49163893]\n",
            " [ 2.280913   -0.3245641 ]]\n",
            "<NDArray 2x2 @cpu(0)>\n"
          ],
          "name": "stdout"
        }
      ]
    },
    {
      "cell_type": "code",
      "metadata": {
        "id": "5wOsHczW80GO",
        "colab_type": "code",
        "colab": {}
      },
      "source": [
        "tic = time.time()\n",
        "for i in range A.size(1,0)"
      ],
      "execution_count": null,
      "outputs": []
    },
    {
      "cell_type": "code",
      "metadata": {
        "id": "m5XA--30_7lf",
        "colab_type": "code",
        "colab": {
          "base_uri": "https://localhost:8080/",
          "height": 51
        },
        "outputId": "512e9ee0-9666-44a8-f422-8c208ec9f157"
      },
      "source": [
        "X = np.arange(4).reshape(2, 2)\n",
        "X"
      ],
      "execution_count": null,
      "outputs": [
        {
          "output_type": "execute_result",
          "data": {
            "text/plain": [
              "array([[0, 1],\n",
              "       [2, 3]])"
            ]
          },
          "metadata": {
            "tags": []
          },
          "execution_count": 43
        }
      ]
    },
    {
      "cell_type": "code",
      "metadata": {
        "id": "xDhwE1thAXut",
        "colab_type": "code",
        "colab": {
          "base_uri": "https://localhost:8080/",
          "height": 34
        },
        "outputId": "e2014314-7bd9-42e1-93df-8a2ccc349d57"
      },
      "source": [
        "X.shape\n",
        "X.size\n",
        "type(X)"
      ],
      "execution_count": null,
      "outputs": [
        {
          "output_type": "execute_result",
          "data": {
            "text/plain": [
              "numpy.ndarray"
            ]
          },
          "metadata": {
            "tags": []
          },
          "execution_count": 44
        }
      ]
    },
    {
      "cell_type": "code",
      "metadata": {
        "id": "l5ZWE4fLBnEG",
        "colab_type": "code",
        "colab": {
          "base_uri": "https://localhost:8080/",
          "height": 85
        },
        "outputId": "d5d4197a-b6ce-4aec-a021-36e00987d546"
      },
      "source": [
        "X = nd.arange(4).reshape(2, 2)\n",
        "X"
      ],
      "execution_count": null,
      "outputs": [
        {
          "output_type": "execute_result",
          "data": {
            "text/plain": [
              "\n",
              "[[0. 1.]\n",
              " [2. 3.]]\n",
              "<NDArray 2x2 @cpu(0)>"
            ]
          },
          "metadata": {
            "tags": []
          },
          "execution_count": 42
        }
      ]
    },
    {
      "cell_type": "code",
      "metadata": {
        "id": "0KdRjkiSCAiO",
        "colab_type": "code",
        "colab": {
          "base_uri": "https://localhost:8080/",
          "height": 34
        },
        "outputId": "4a8e0052-931b-4752-d604-74b9c2aa36c9"
      },
      "source": [
        "type(X)"
      ],
      "execution_count": null,
      "outputs": [
        {
          "output_type": "execute_result",
          "data": {
            "text/plain": [
              "numpy.ndarray"
            ]
          },
          "metadata": {
            "tags": []
          },
          "execution_count": 47
        }
      ]
    },
    {
      "cell_type": "code",
      "metadata": {
        "id": "eiWtSK25CPc8",
        "colab_type": "code",
        "colab": {
          "base_uri": "https://localhost:8080/",
          "height": 136
        },
        "outputId": "78e8a459-e37c-44df-ca54-494349a1db68"
      },
      "source": [
        "#X=np.array([2,2],[3,3])\n",
        "#u = np.array([[3, -4, 3], [3, 5, 5]] )\n",
        "#u = np.array([[1,2],[5,2]])\n",
        "u = np.array([[[1,1],[2,2]],[[5,5],[2,6]]])\n",
        "print(u.shape)\n",
        "print(u)\n",
        "print(type(u))"
      ],
      "execution_count": null,
      "outputs": [
        {
          "output_type": "stream",
          "text": [
            "(2, 2, 2)\n",
            "[[[1 1]\n",
            "  [2 2]]\n",
            "\n",
            " [[5 5]\n",
            "  [2 6]]]\n",
            "<class 'numpy.ndarray'>\n"
          ],
          "name": "stdout"
        }
      ]
    },
    {
      "cell_type": "code",
      "metadata": {
        "id": "G4KuXyPIFNUX",
        "colab_type": "code",
        "colab": {
          "base_uri": "https://localhost:8080/",
          "height": 170
        },
        "outputId": "1af35b0c-1261-42ee-a4f4-683581dcd592"
      },
      "source": [
        "X = nd.arange(8).reshape(2, 2, 2)\n",
        "print(X.shape)\n",
        "print(X)\n",
        "print(type(X))"
      ],
      "execution_count": null,
      "outputs": [
        {
          "output_type": "stream",
          "text": [
            "(2, 2, 2)\n",
            "\n",
            "[[[0. 1.]\n",
            "  [2. 3.]]\n",
            "\n",
            " [[4. 5.]\n",
            "  [6. 7.]]]\n",
            "<NDArray 2x2x2 @cpu(0)>\n",
            "<class 'mxnet.ndarray.ndarray.NDArray'>\n"
          ],
          "name": "stdout"
        }
      ]
    },
    {
      "cell_type": "code",
      "metadata": {
        "id": "LQM12it5FegO",
        "colab_type": "code",
        "colab": {
          "base_uri": "https://localhost:8080/",
          "height": 136
        },
        "outputId": "44ac5d72-0856-4564-cad1-53577d22e722"
      },
      "source": [
        "Y = nd.arange(8).reshape(2,2,2)\n",
        "Y"
      ],
      "execution_count": null,
      "outputs": [
        {
          "output_type": "execute_result",
          "data": {
            "text/plain": [
              "\n",
              "[[[0. 1.]\n",
              "  [2. 3.]]\n",
              "\n",
              " [[4. 5.]\n",
              "  [6. 7.]]]\n",
              "<NDArray 2x2x2 @cpu(0)>"
            ]
          },
          "metadata": {
            "tags": []
          },
          "execution_count": 85
        }
      ]
    },
    {
      "cell_type": "code",
      "metadata": {
        "id": "euQ4-6JNFnB-",
        "colab_type": "code",
        "colab": {
          "base_uri": "https://localhost:8080/",
          "height": 255
        },
        "outputId": "c5f54b7c-b605-465d-eb38-fca41b059015"
      },
      "source": [
        "Z = nd.dot(X,Y)\n",
        "Z"
      ],
      "execution_count": null,
      "outputs": [
        {
          "output_type": "execute_result",
          "data": {
            "text/plain": [
              "\n",
              "[[[[ 4.  5.]\n",
              "   [ 6.  7.]]\n",
              "\n",
              "  [[12. 17.]\n",
              "   [22. 27.]]]\n",
              "\n",
              "\n",
              " [[[20. 29.]\n",
              "   [38. 47.]]\n",
              "\n",
              "  [[28. 41.]\n",
              "   [54. 67.]]]]\n",
              "<NDArray 2x2x2x2 @cpu(0)>"
            ]
          },
          "metadata": {
            "tags": []
          },
          "execution_count": 87
        }
      ]
    },
    {
      "cell_type": "markdown",
      "metadata": {
        "id": "mXbjKT6jH1v2",
        "colab_type": "text"
      },
      "source": [
        "## nd.array practice"
      ]
    },
    {
      "cell_type": "code",
      "metadata": {
        "id": "8lS7TjX0IYgN",
        "colab_type": "code",
        "colab": {}
      },
      "source": [
        "A = nd.array([[2, 4], [3, 1]])\n",
        "B = nd.array([[3, 1], [2, 5]])"
      ],
      "execution_count": null,
      "outputs": []
    },
    {
      "cell_type": "code",
      "metadata": {
        "id": "F5myvMuGMQtF",
        "colab_type": "code",
        "colab": {}
      },
      "source": [
        "AA = A.asnumpy()\n",
        "BB = B.asnumpy()"
      ],
      "execution_count": null,
      "outputs": []
    },
    {
      "cell_type": "code",
      "metadata": {
        "id": "rtFfaharMki1",
        "colab_type": "code",
        "colab": {
          "base_uri": "https://localhost:8080/",
          "height": 34
        },
        "outputId": "8e851f1b-795c-450e-a9e7-af554b8c0008"
      },
      "source": [
        "AA\n",
        "type(AA)"
      ],
      "execution_count": null,
      "outputs": [
        {
          "output_type": "execute_result",
          "data": {
            "text/plain": [
              "numpy.ndarray"
            ]
          },
          "metadata": {
            "tags": []
          },
          "execution_count": 119
        }
      ]
    },
    {
      "cell_type": "code",
      "metadata": {
        "id": "9RcFub-MI_-9",
        "colab_type": "code",
        "colab": {
          "base_uri": "https://localhost:8080/",
          "height": 85
        },
        "outputId": "3c6b2257-ed4c-4f85-d270-3ca12dbb8b87"
      },
      "source": [
        "A"
      ],
      "execution_count": null,
      "outputs": [
        {
          "output_type": "execute_result",
          "data": {
            "text/plain": [
              "\n",
              "[[2. 4.]\n",
              " [3. 1.]]\n",
              "<NDArray 2x2 @cpu(0)>"
            ]
          },
          "metadata": {
            "tags": []
          },
          "execution_count": 97
        }
      ]
    },
    {
      "cell_type": "code",
      "metadata": {
        "id": "5Xf13F-pI2fY",
        "colab_type": "code",
        "colab": {
          "base_uri": "https://localhost:8080/",
          "height": 85
        },
        "outputId": "689fc0ba-040d-4b3c-ef36-072894c7dad4"
      },
      "source": [
        "A\n",
        "B"
      ],
      "execution_count": null,
      "outputs": [
        {
          "output_type": "execute_result",
          "data": {
            "text/plain": [
              "\n",
              "[[3. 1.]\n",
              " [2. 5.]]\n",
              "<NDArray 2x2 @cpu(0)>"
            ]
          },
          "metadata": {
            "tags": []
          },
          "execution_count": 94
        }
      ]
    },
    {
      "cell_type": "code",
      "metadata": {
        "id": "uyA09QYSI6jl",
        "colab_type": "code",
        "colab": {
          "base_uri": "https://localhost:8080/",
          "height": 85
        },
        "outputId": "225e29e1-58e8-4593-db98-37a2060bed13"
      },
      "source": [
        "nd.dot(A,B)"
      ],
      "execution_count": null,
      "outputs": [
        {
          "output_type": "execute_result",
          "data": {
            "text/plain": [
              "\n",
              "[[14. 22.]\n",
              " [11.  8.]]\n",
              "<NDArray 2x2 @cpu(0)>"
            ]
          },
          "metadata": {
            "tags": []
          },
          "execution_count": 95
        }
      ]
    },
    {
      "cell_type": "code",
      "metadata": {
        "id": "fWXUfX7mJPj-",
        "colab_type": "code",
        "colab": {
          "base_uri": "https://localhost:8080/",
          "height": 85
        },
        "outputId": "8b0e2904-2fe8-40c1-8672-11bd0c6bc272"
      },
      "source": [
        "A*B"
      ],
      "execution_count": null,
      "outputs": [
        {
          "output_type": "execute_result",
          "data": {
            "text/plain": [
              "\n",
              "[[6. 4.]\n",
              " [6. 5.]]\n",
              "<NDArray 2x2 @cpu(0)>"
            ]
          },
          "metadata": {
            "tags": []
          },
          "execution_count": 98
        }
      ]
    },
    {
      "cell_type": "code",
      "metadata": {
        "id": "kBu8S4niJkWV",
        "colab_type": "code",
        "colab": {
          "base_uri": "https://localhost:8080/",
          "height": 51
        },
        "outputId": "c1b5a209-3cb9-48c8-fe3d-c4acae2f3af1"
      },
      "source": [
        "#C= np.matmul(A,B)\n",
        "C= np.matmul(AA,BB)\n",
        "type(C)\n",
        "C.shape\n",
        "#C.size\n",
        "print(C)"
      ],
      "execution_count": null,
      "outputs": [
        {
          "output_type": "stream",
          "text": [
            "[[14. 22.]\n",
            " [11.  8.]]\n"
          ],
          "name": "stdout"
        }
      ]
    },
    {
      "cell_type": "code",
      "metadata": {
        "id": "_P4rkdlsK4gX",
        "colab_type": "code",
        "colab": {
          "base_uri": "https://localhost:8080/",
          "height": 527
        },
        "outputId": "c665206b-245d-44d3-c2d1-a4e6b06de51f"
      },
      "source": [
        "import numpy\n",
        "# Two matrices are initialized by value\n",
        "x = numpy.array([[1, 2], [4, 5]])\n",
        "y = numpy.array([[7, 8], [9, 10]])\n",
        "print(x, y)\n",
        "#  add()is used to add matrices\n",
        "print (\"Addition of two matrices: \")\n",
        "print (numpy.add(x,y))\n",
        "# subtract()is used to subtract matrices\n",
        "print (\"Subtraction of two matrices : \")\n",
        "print (numpy.subtract(x,y))\n",
        "# divide()is used to divide matrices\n",
        "print (\"Matrix Division : \")\n",
        "print (numpy.divide(x,y))\n",
        "print (\"Multiplication of two matrices: \")\n",
        "print (numpy.multiply(x,y))\n",
        "print (\"The product of two matrices : \")\n",
        "print (numpy.dot(x,y))\n",
        "print (\"square root is : \")\n",
        "print (numpy.sqrt(x))\n",
        "print (\"The summation of elements : \")\n",
        "print (numpy.sum(y))\n",
        "print (\"The column wise summation  : \")\n",
        "print (numpy.sum(y,axis=0))\n",
        "print (\"The row wise summation: \")\n",
        "print (numpy.sum(y,axis=1))\n",
        "# using \"T\" to transpose the matrix\n",
        "print (\"Matrix transposition : \")\n",
        "print (x.T)"
      ],
      "execution_count": null,
      "outputs": [
        {
          "output_type": "stream",
          "text": [
            "[[1 2]\n",
            " [4 5]] [[ 7  8]\n",
            " [ 9 10]]\n",
            "Addition of two matrices: \n",
            "[[ 8 10]\n",
            " [13 15]]\n",
            "Subtraction of two matrices : \n",
            "[[-6 -6]\n",
            " [-5 -5]]\n",
            "Matrix Division : \n",
            "[[0.14285714 0.25      ]\n",
            " [0.44444444 0.5       ]]\n",
            "Multiplication of two matrices: \n",
            "[[ 7 16]\n",
            " [36 50]]\n",
            "The product of two matrices : \n",
            "[[25 28]\n",
            " [73 82]]\n",
            "square root is : \n",
            "[[1.         1.41421356]\n",
            " [2.         2.23606798]]\n",
            "The summation of elements : \n",
            "34\n",
            "The column wise summation  : \n",
            "[16 18]\n",
            "The row wise summation: \n",
            "[15 19]\n",
            "Matrix transposition : \n",
            "[[1 4]\n",
            " [2 5]]\n"
          ],
          "name": "stdout"
        }
      ]
    },
    {
      "cell_type": "code",
      "metadata": {
        "id": "hD3WaeVeLdW3",
        "colab_type": "code",
        "colab": {
          "base_uri": "https://localhost:8080/",
          "height": 51
        },
        "outputId": "62f724a6-145a-4ef1-dc9f-5c858e755e98"
      },
      "source": [
        "np.matmul(x,y)"
      ],
      "execution_count": null,
      "outputs": [
        {
          "output_type": "execute_result",
          "data": {
            "text/plain": [
              "array([[25, 28],\n",
              "       [73, 82]])"
            ]
          },
          "metadata": {
            "tags": []
          },
          "execution_count": 113
        }
      ]
    },
    {
      "cell_type": "code",
      "metadata": {
        "id": "w0GjoRkOLm_9",
        "colab_type": "code",
        "colab": {
          "base_uri": "https://localhost:8080/",
          "height": 51
        },
        "outputId": "38fa22f2-e80f-4aaa-f100-5f59b69358aa"
      },
      "source": [
        "np.dot(x,y)"
      ],
      "execution_count": null,
      "outputs": [
        {
          "output_type": "execute_result",
          "data": {
            "text/plain": [
              "array([[25, 28],\n",
              "       [73, 82]])"
            ]
          },
          "metadata": {
            "tags": []
          },
          "execution_count": 114
        }
      ]
    },
    {
      "cell_type": "code",
      "metadata": {
        "id": "yEfg4DAjLsy9",
        "colab_type": "code",
        "colab": {
          "base_uri": "https://localhost:8080/",
          "height": 51
        },
        "outputId": "46bb96bf-6f22-4995-f209-d30c9d2f488a"
      },
      "source": [
        "x*y"
      ],
      "execution_count": null,
      "outputs": [
        {
          "output_type": "execute_result",
          "data": {
            "text/plain": [
              "array([[ 7, 16],\n",
              "       [36, 50]])"
            ]
          },
          "metadata": {
            "tags": []
          },
          "execution_count": 115
        }
      ]
    },
    {
      "cell_type": "code",
      "metadata": {
        "id": "yXN7157MLwum",
        "colab_type": "code",
        "colab": {
          "base_uri": "https://localhost:8080/",
          "height": 51
        },
        "outputId": "b5b65eda-357a-4380-b71f-bafa13059029"
      },
      "source": [
        "np.multiply(x,y)"
      ],
      "execution_count": null,
      "outputs": [
        {
          "output_type": "execute_result",
          "data": {
            "text/plain": [
              "array([[ 7, 16],\n",
              "       [36, 50]])"
            ]
          },
          "metadata": {
            "tags": []
          },
          "execution_count": 116
        }
      ]
    },
    {
      "cell_type": "markdown",
      "metadata": {
        "id": "Wi9UiVkdNDgO",
        "colab_type": "text"
      },
      "source": [
        "## solution"
      ]
    },
    {
      "cell_type": "code",
      "metadata": {
        "id": "uZbtVowONJYe",
        "colab_type": "code",
        "colab": {
          "base_uri": "https://localhost:8080/",
          "height": 34
        },
        "outputId": "b2887376-d31a-49ec-f1bf-a13cc0af3963"
      },
      "source": [
        "A = nd.random.normal(shape=(4096,4096))\n",
        "B = nd.random.normal(shape=(4096,4096))\n",
        "A.shape"
      ],
      "execution_count": null,
      "outputs": [
        {
          "output_type": "execute_result",
          "data": {
            "text/plain": [
              "(4096, 4096)"
            ]
          },
          "metadata": {
            "tags": []
          },
          "execution_count": 6
        }
      ]
    },
    {
      "cell_type": "code",
      "metadata": {
        "id": "1B_tUEc-PwR_",
        "colab_type": "code",
        "colab": {
          "base_uri": "https://localhost:8080/",
          "height": 34
        },
        "outputId": "200ce6e8-b0e4-4ce8-bef0-e7d1ba18c109"
      },
      "source": [
        "tic = time.time()\n",
        "C = nd.dot(A,B)\n",
        "C.wait_to_read()\n",
        "print(\"Matrix by matrix: \" + str(time.time() - tic) + \" seconds\")"
      ],
      "execution_count": null,
      "outputs": [
        {
          "output_type": "stream",
          "text": [
            "Matrix by matrix: 2.2000935077667236 seconds\n"
          ],
          "name": "stdout"
        }
      ]
    },
    {
      "cell_type": "code",
      "metadata": {
        "id": "LGwy3cngQeVP",
        "colab_type": "code",
        "colab": {}
      },
      "source": [
        "tic = time.time()\n",
        "C = nd.dot(A,B)"
      ],
      "execution_count": null,
      "outputs": []
    },
    {
      "cell_type": "code",
      "metadata": {
        "id": "69nWZlWTRJvp",
        "colab_type": "code",
        "colab": {
          "base_uri": "https://localhost:8080/",
          "height": 34
        },
        "outputId": "fea5be62-9316-4457-8f33-ae49f1a1e869"
      },
      "source": [
        "C = nd.empty((4096, 4096))\n",
        "tic = time.time()\n",
        "for i in range(4096):\n",
        "    C[:, i] = nd.dot(A, B[:, i])\n",
        "C.wait_to_read()\n",
        "print(\"Matrix by vector: \" + str(time.time() - tic) + \" seconds\")"
      ],
      "execution_count": null,
      "outputs": [
        {
          "output_type": "stream",
          "text": [
            "Matrix by vector: 67.78497171401978 seconds\n"
          ],
          "name": "stdout"
        }
      ]
    },
    {
      "cell_type": "code",
      "metadata": {
        "id": "jq7UJNc1SGMw",
        "colab_type": "code",
        "colab": {}
      },
      "source": [
        "C = nd.empty((4096, 4096))\n",
        "tic = time.time()\n",
        "for i in range(4096):\n",
        "    for j in range(4096):\n",
        "        C[i,j] = nd.dot(A[i, :], B[:, j])\n",
        "C.wait_to_read()\n",
        "print(\"Vector by vector: \" + str(time.time() - tic) + \" seconds\")"
      ],
      "execution_count": null,
      "outputs": []
    },
    {
      "cell_type": "markdown",
      "metadata": {
        "id": "JP7Veyo201Ox",
        "colab_type": "text"
      },
      "source": [
        "## 2. Semidefinite Matrices\n",
        "\n",
        "Assume that $A \\in \\mathbb{R}^{m \\times n}$ is an arbitrary matrix and that $D \\in \\mathbb{R}^{n \\times n}$ is a diagonal matrix with nonnegative entries. \n",
        "\n",
        "1. Prove that $B = A D A^\\top$ is a positive semidefinite matrix. \n",
        "1. When would it be useful to work with $B$ and when is it better to use $A$ and $D$?"
      ]
    },
    {
      "cell_type": "markdown",
      "metadata": {
        "id": "-Kc4onBT01Oy",
        "colab_type": "text"
      },
      "source": [
        ""
      ]
    },
    {
      "cell_type": "markdown",
      "metadata": {
        "id": "ycwI5g_N01Oy",
        "colab_type": "text"
      },
      "source": [
        "## 3. MXNet on GPUs\n",
        "\n",
        "1. Install GPU drivers (if needed)\n",
        "1. Install MXNet on a GPU instance\n",
        "1. Display `!nvidia-smi`\n",
        "1. Create a $2 \\times 2$ matrix on the GPU and print it. See http://d2l.ai/chapter_deep-learning-computation/use-gpu.html for details."
      ]
    },
    {
      "cell_type": "code",
      "metadata": {
        "id": "rAGaX4C901Oy",
        "colab_type": "code",
        "colab": {
          "base_uri": "https://localhost:8080/",
          "height": 357
        },
        "outputId": "520d097e-b15a-4f8a-bca5-c37aff4feca8"
      },
      "source": [
        "!nvidia-smi"
      ],
      "execution_count": null,
      "outputs": [
        {
          "output_type": "stream",
          "text": [
            "Mon Jul 13 08:52:15 2020       \n",
            "+-----------------------------------------------------------------------------+\n",
            "| NVIDIA-SMI 450.36.06    Driver Version: 418.67       CUDA Version: 10.1     |\n",
            "|-------------------------------+----------------------+----------------------+\n",
            "| GPU  Name        Persistence-M| Bus-Id        Disp.A | Volatile Uncorr. ECC |\n",
            "| Fan  Temp  Perf  Pwr:Usage/Cap|         Memory-Usage | GPU-Util  Compute M. |\n",
            "|                               |                      |               MIG M. |\n",
            "|===============================+======================+======================|\n",
            "|   0  Tesla K80           Off  | 00000000:00:04.0 Off |                    0 |\n",
            "| N/A   56C    P8    30W / 149W |      0MiB / 11441MiB |      0%      Default |\n",
            "|                               |                      |                 ERR! |\n",
            "+-------------------------------+----------------------+----------------------+\n",
            "                                                                               \n",
            "+-----------------------------------------------------------------------------+\n",
            "| Processes:                                                                  |\n",
            "|  GPU   GI   CI        PID   Type   Process name                  GPU Memory |\n",
            "|        ID   ID                                                   Usage      |\n",
            "|=============================================================================|\n",
            "|  No running processes found                                                 |\n",
            "+-----------------------------------------------------------------------------+\n"
          ],
          "name": "stdout"
        }
      ]
    },
    {
      "cell_type": "code",
      "metadata": {
        "id": "wDbnaI78YII4",
        "colab_type": "code",
        "colab": {
          "base_uri": "https://localhost:8080/",
          "height": 85
        },
        "outputId": "6827213e-0fa5-43cb-be75-5ef7b66d71a0"
      },
      "source": [
        "x = nd.ones((2, 2), ctx=mx.gpu())\n",
        "x"
      ],
      "execution_count": null,
      "outputs": [
        {
          "output_type": "execute_result",
          "data": {
            "text/plain": [
              "\n",
              "[[1. 1.]\n",
              " [1. 1.]]\n",
              "<NDArray 2x2 @gpu(0)>"
            ]
          },
          "metadata": {
            "tags": []
          },
          "execution_count": 12
        }
      ]
    },
    {
      "cell_type": "code",
      "metadata": {
        "id": "x5cYxrnMYWmP",
        "colab_type": "code",
        "colab": {}
      },
      "source": [
        "AA = nd.random.normal(shape=(4096,4096),ctx=mx.gpu())\n",
        "BB = nd.random.normal(shape=(4096,4096),ctx=mx.gpu())"
      ],
      "execution_count": null,
      "outputs": []
    },
    {
      "cell_type": "code",
      "metadata": {
        "id": "JCZpXK0cYv4n",
        "colab_type": "code",
        "colab": {
          "base_uri": "https://localhost:8080/",
          "height": 34
        },
        "outputId": "2bf82ff7-44be-4a27-a435-58ade4ad3a06"
      },
      "source": [
        "tic = time.time()\n",
        "C = nd.dot(AA,BB)\n",
        "C.wait_to_read()\n",
        "print(\"Matrix by matrix: \" + str(time.time() - tic) + \" seconds\")"
      ],
      "execution_count": null,
      "outputs": [
        {
          "output_type": "stream",
          "text": [
            "Matrix by matrix: 0.06453084945678711 seconds\n"
          ],
          "name": "stdout"
        }
      ]
    },
    {
      "cell_type": "code",
      "metadata": {
        "id": "_bMysSzwY20f",
        "colab_type": "code",
        "colab": {
          "base_uri": "https://localhost:8080/",
          "height": 34
        },
        "outputId": "4f7b3748-8450-4b99-e293-fe49d97ad6b7"
      },
      "source": [
        "C = nd.empty((4096, 4096))\n",
        "tic = time.time()\n",
        "for i in range(4096):\n",
        "    C[:, i] = nd.dot(AA, BB[:, i])\n",
        "C.wait_to_read()\n",
        "print(\"Matrix by vector: \" + str(time.time() - tic) + \" seconds\")"
      ],
      "execution_count": null,
      "outputs": [
        {
          "output_type": "stream",
          "text": [
            "Matrix by vector: 4.284566879272461 seconds\n"
          ],
          "name": "stdout"
        }
      ]
    },
    {
      "cell_type": "code",
      "metadata": {
        "id": "nIRArVq2Y-sY",
        "colab_type": "code",
        "colab": {}
      },
      "source": [
        "C = nd.empty((4096, 4096))\n",
        "tic = time.time()\n",
        "for i in range(4096):\n",
        "    for j in range(4096):\n",
        "        C[i,j] = nd.dot(A[i, :], B[:, j])\n",
        "C.wait_to_read()\n",
        "print(\"Vector by vector: \" + str(time.time() - tic) + \" seconds\")"
      ],
      "execution_count": null,
      "outputs": []
    },
    {
      "cell_type": "markdown",
      "metadata": {
        "id": "YugEPKW301O2",
        "colab_type": "text"
      },
      "source": [
        "## 4. NDArray and NumPy \n",
        "\n",
        "Your goal is to measure the speed penalty between MXNet Gluon and Python when converting data between both. We are going to do this as follows:\n",
        "\n",
        "1. Create two Gaussian random matrices $A, B$ of size $4096 \\times 4096$ in NDArray. \n",
        "1. Compute a vector $\\mathbf{c} \\in \\mathbb{R}^{4096}$ where $c_i = \\|A B_{i\\cdot}\\|^2$ where $\\mathbf{c}$ is a **NumPy** vector.\n",
        "\n",
        "To see the difference in speed due to Python perform the following two experiments and measure the time:\n",
        "\n",
        "1. Compute $\\|A B_{i\\cdot}\\|^2$ one at a time and assign its outcome to $\\mathbf{c}_i$ directly.\n",
        "1. Use an intermediate storage vector $\\mathbf{d}$ in NDArray for assignments and copy to NumPy at the end."
      ]
    },
    {
      "cell_type": "code",
      "metadata": {
        "id": "TpRDkQDa01O2",
        "colab_type": "code",
        "colab": {
          "base_uri": "https://localhost:8080/",
          "height": 34
        },
        "outputId": "397bcbf4-603a-4fa1-a1bb-01efc7806ec7"
      },
      "source": [
        "A = nd.random.normal(shape=(4096, 4096),ctx=mx.gpu())\n",
        "B = nd.random.normal(shape=(4096, 4096),ctx=mx.gpu())\n",
        "c = np.empty(4096)\n",
        "tic = time.time()\n",
        "for i in range(4096):\n",
        "    c[i] = (nd.norm(nd.dot(A, B[:, i])).asscalar())**2\n",
        "print(\"One at a time: \" + str(time.time() - tic) + \" seconds\")"
      ],
      "execution_count": null,
      "outputs": [
        {
          "output_type": "stream",
          "text": [
            "One at a time: 6.499990463256836 seconds\n"
          ],
          "name": "stdout"
        }
      ]
    },
    {
      "cell_type": "code",
      "metadata": {
        "id": "DaBNW6s5a6r5",
        "colab_type": "code",
        "colab": {
          "base_uri": "https://localhost:8080/",
          "height": 34
        },
        "outputId": "3c4c0a1e-4eab-482f-b324-b10519d25204"
      },
      "source": [
        "d = nd.empty(4096)\n",
        "tic = time.time()\n",
        "for i in range(4096):\n",
        "    d[i] = nd.norm(nd.dot(A, B[:, i]))**2\n",
        "c = d.asnumpy()\n",
        "print(\"Convert at end: \" + str(time.time() - tic) + \" seconds\")"
      ],
      "execution_count": null,
      "outputs": [
        {
          "output_type": "stream",
          "text": [
            "Convert at end: 4.857295989990234 seconds\n"
          ],
          "name": "stdout"
        }
      ]
    },
    {
      "cell_type": "markdown",
      "metadata": {
        "id": "oIrgHQzB01O4",
        "colab_type": "text"
      },
      "source": [
        "## 5. Memory efficient computation\n",
        "\n",
        "We want to compute $C \\leftarrow A \\cdot B + C$, where $A, B$ and $C$ are all matrices. Implement this in the most memory efficient manner. Pay attention to the following two things:\n",
        "\n",
        "1. Do not allocate new memory for the new value of $C$.\n",
        "1. Do not allocate new memory for intermediate results if possible."
      ]
    },
    {
      "cell_type": "code",
      "metadata": {
        "id": "IoaWDtr6bs24",
        "colab_type": "code",
        "colab": {
          "base_uri": "https://localhost:8080/",
          "height": 34
        },
        "outputId": "df1b6d05-3137-4195-c8c8-87469abd172a"
      },
      "source": [
        "A = nd.random.normal(shape=(100,100),ctx=mx.gpu())\n",
        "type(A)"
      ],
      "execution_count": null,
      "outputs": [
        {
          "output_type": "execute_result",
          "data": {
            "text/plain": [
              "mxnet.ndarray.ndarray.NDArray"
            ]
          },
          "metadata": {
            "tags": []
          },
          "execution_count": 25
        }
      ]
    },
    {
      "cell_type": "code",
      "metadata": {
        "id": "fLMCWgxX01O4",
        "colab_type": "code",
        "colab": {
          "base_uri": "https://localhost:8080/",
          "height": 34
        },
        "outputId": "8d3dfd66-d38d-4884-e96b-1ee8835240b4"
      },
      "source": [
        "A = nd.random.normal(shape=(100,100))\n",
        "B = nd.random.normal(shape=(100,100))\n",
        "C = nd.random.normal(shape=(100,100))\n",
        "C += nd.dot(A,B)\n",
        "type(C)"
      ],
      "execution_count": null,
      "outputs": [
        {
          "output_type": "execute_result",
          "data": {
            "text/plain": [
              "mxnet.ndarray.ndarray.NDArray"
            ]
          },
          "metadata": {
            "tags": []
          },
          "execution_count": 28
        }
      ]
    },
    {
      "cell_type": "markdown",
      "metadata": {
        "id": "hqaOehX601O6",
        "colab_type": "text"
      },
      "source": [
        "## 6. Broadcast Operations\n",
        "\n",
        "In order to perform polynomial fitting we want to compute a design matrix $A$ with \n",
        "\n",
        "$$A_{ij} = x_i^j$$\n",
        "\n",
        "Our goal is to implement this **without a single for loop** entirely using vectorization and broadcast. Here $1 \\leq j \\leq 20$ and $x = \\{-10, -9.9, \\ldots 10\\}$. Implement code that generates such a matrix."
      ]
    },
    {
      "cell_type": "code",
      "metadata": {
        "id": "kQoUu3YP01O7",
        "colab_type": "code",
        "colab": {
          "base_uri": "https://localhost:8080/",
          "height": 1000
        },
        "outputId": "786abfea-4620-48e0-c002-f4ee9e12e92f"
      },
      "source": [
        " x = nd.arange(start=-10, stop=10.1, step=0.1).reshape((201, 1))\n",
        " x"
      ],
      "execution_count": null,
      "outputs": [
        {
          "output_type": "execute_result",
          "data": {
            "text/plain": [
              "\n",
              "[[-10.        ]\n",
              " [ -9.9       ]\n",
              " [ -9.8       ]\n",
              " [ -9.7       ]\n",
              " [ -9.6       ]\n",
              " [ -9.5       ]\n",
              " [ -9.4       ]\n",
              " [ -9.3       ]\n",
              " [ -9.2       ]\n",
              " [ -9.1       ]\n",
              " [ -9.        ]\n",
              " [ -8.9       ]\n",
              " [ -8.8       ]\n",
              " [ -8.7       ]\n",
              " [ -8.6       ]\n",
              " [ -8.5       ]\n",
              " [ -8.4       ]\n",
              " [ -8.3       ]\n",
              " [ -8.2       ]\n",
              " [ -8.1       ]\n",
              " [ -8.        ]\n",
              " [ -7.8999996 ]\n",
              " [ -7.8       ]\n",
              " [ -7.7       ]\n",
              " [ -7.6       ]\n",
              " [ -7.5       ]\n",
              " [ -7.3999996 ]\n",
              " [ -7.3       ]\n",
              " [ -7.2       ]\n",
              " [ -7.1       ]\n",
              " [ -7.        ]\n",
              " [ -6.8999996 ]\n",
              " [ -6.8       ]\n",
              " [ -6.7       ]\n",
              " [ -6.6       ]\n",
              " [ -6.5       ]\n",
              " [ -6.3999996 ]\n",
              " [ -6.3       ]\n",
              " [ -6.2       ]\n",
              " [ -6.1       ]\n",
              " [ -6.        ]\n",
              " [ -5.9       ]\n",
              " [ -5.7999997 ]\n",
              " [ -5.7       ]\n",
              " [ -5.6       ]\n",
              " [ -5.5       ]\n",
              " [ -5.4       ]\n",
              " [ -5.2999997 ]\n",
              " [ -5.2       ]\n",
              " [ -5.1       ]\n",
              " [ -5.        ]\n",
              " [ -4.9       ]\n",
              " [ -4.7999997 ]\n",
              " [ -4.7       ]\n",
              " [ -4.6       ]\n",
              " [ -4.5       ]\n",
              " [ -4.4       ]\n",
              " [ -4.2999997 ]\n",
              " [ -4.2       ]\n",
              " [ -4.1       ]\n",
              " [ -4.        ]\n",
              " [ -3.9       ]\n",
              " [ -3.7999997 ]\n",
              " [ -3.6999998 ]\n",
              " [ -3.6       ]\n",
              " [ -3.5       ]\n",
              " [ -3.4       ]\n",
              " [ -3.2999997 ]\n",
              " [ -3.1999998 ]\n",
              " [ -3.1       ]\n",
              " [ -3.        ]\n",
              " [ -2.9       ]\n",
              " [ -2.7999997 ]\n",
              " [ -2.6999998 ]\n",
              " [ -2.6       ]\n",
              " [ -2.5       ]\n",
              " [ -2.4       ]\n",
              " [ -2.2999997 ]\n",
              " [ -2.1999998 ]\n",
              " [ -2.1       ]\n",
              " [ -2.        ]\n",
              " [ -1.8999996 ]\n",
              " [ -1.8000002 ]\n",
              " [ -1.6999998 ]\n",
              " [ -1.5999994 ]\n",
              " [ -1.5       ]\n",
              " [ -1.3999996 ]\n",
              " [ -1.3000002 ]\n",
              " [ -1.1999998 ]\n",
              " [ -1.0999994 ]\n",
              " [ -1.        ]\n",
              " [ -0.8999996 ]\n",
              " [ -0.8000002 ]\n",
              " [ -0.6999998 ]\n",
              " [ -0.5999994 ]\n",
              " [ -0.5       ]\n",
              " [ -0.39999962]\n",
              " [ -0.3000002 ]\n",
              " [ -0.19999981]\n",
              " [ -0.09999943]\n",
              " [  0.        ]\n",
              " [  0.10000038]\n",
              " [  0.19999981]\n",
              " [  0.3000002 ]\n",
              " [  0.40000057]\n",
              " [  0.5       ]\n",
              " [  0.6000004 ]\n",
              " [  0.6999998 ]\n",
              " [  0.8000002 ]\n",
              " [  0.9000006 ]\n",
              " [  1.        ]\n",
              " [  1.1000004 ]\n",
              " [  1.1999998 ]\n",
              " [  1.3000002 ]\n",
              " [  1.4000006 ]\n",
              " [  1.5       ]\n",
              " [  1.6000004 ]\n",
              " [  1.6999998 ]\n",
              " [  1.8000002 ]\n",
              " [  1.9000006 ]\n",
              " [  2.        ]\n",
              " [  2.1000004 ]\n",
              " [  2.1999998 ]\n",
              " [  2.3000002 ]\n",
              " [  2.4000006 ]\n",
              " [  2.5       ]\n",
              " [  2.6000004 ]\n",
              " [  2.6999998 ]\n",
              " [  2.8000002 ]\n",
              " [  2.9000006 ]\n",
              " [  3.        ]\n",
              " [  3.1000004 ]\n",
              " [  3.1999998 ]\n",
              " [  3.3000002 ]\n",
              " [  3.4000006 ]\n",
              " [  3.5       ]\n",
              " [  3.6000004 ]\n",
              " [  3.6999998 ]\n",
              " [  3.8000002 ]\n",
              " [  3.9000006 ]\n",
              " [  4.        ]\n",
              " [  4.1000004 ]\n",
              " [  4.2       ]\n",
              " [  4.3       ]\n",
              " [  4.4000006 ]\n",
              " [  4.5       ]\n",
              " [  4.6000004 ]\n",
              " [  4.7       ]\n",
              " [  4.8       ]\n",
              " [  4.9000006 ]\n",
              " [  5.        ]\n",
              " [  5.1000004 ]\n",
              " [  5.2       ]\n",
              " [  5.3       ]\n",
              " [  5.4000006 ]\n",
              " [  5.5       ]\n",
              " [  5.6000004 ]\n",
              " [  5.7       ]\n",
              " [  5.8       ]\n",
              " [  5.9000006 ]\n",
              " [  6.        ]\n",
              " [  6.1000004 ]\n",
              " [  6.200001  ]\n",
              " [  6.300001  ]\n",
              " [  6.3999996 ]\n",
              " [  6.5       ]\n",
              " [  6.6000004 ]\n",
              " [  6.700001  ]\n",
              " [  6.800001  ]\n",
              " [  6.8999996 ]\n",
              " [  7.        ]\n",
              " [  7.1000004 ]\n",
              " [  7.200001  ]\n",
              " [  7.300001  ]\n",
              " [  7.3999996 ]\n",
              " [  7.5       ]\n",
              " [  7.6000004 ]\n",
              " [  7.700001  ]\n",
              " [  7.800001  ]\n",
              " [  7.8999996 ]\n",
              " [  8.        ]\n",
              " [  8.1       ]\n",
              " [  8.200001  ]\n",
              " [  8.300001  ]\n",
              " [  8.4       ]\n",
              " [  8.5       ]\n",
              " [  8.6       ]\n",
              " [  8.700001  ]\n",
              " [  8.800001  ]\n",
              " [  8.9       ]\n",
              " [  9.        ]\n",
              " [  9.1       ]\n",
              " [  9.200001  ]\n",
              " [  9.300001  ]\n",
              " [  9.4       ]\n",
              " [  9.5       ]\n",
              " [  9.6       ]\n",
              " [  9.700001  ]\n",
              " [  9.800001  ]\n",
              " [  9.9       ]\n",
              " [ 10.        ]]\n",
              "<NDArray 201x1 @cpu(0)>"
            ]
          },
          "metadata": {
            "tags": []
          },
          "execution_count": 30
        }
      ]
    },
    {
      "cell_type": "code",
      "metadata": {
        "id": "n4tBLLwWdGjJ",
        "colab_type": "code",
        "colab": {
          "base_uri": "https://localhost:8080/",
          "height": 34
        },
        "outputId": "3024d10e-6260-457d-c328-b1fc8583a61f"
      },
      "source": [
        "j = nd.arange(start=1, stop=21, step=1.0).reshape((1, 20))\n",
        "j.shape"
      ],
      "execution_count": null,
      "outputs": [
        {
          "output_type": "execute_result",
          "data": {
            "text/plain": [
              "(1, 20)"
            ]
          },
          "metadata": {
            "tags": []
          },
          "execution_count": 33
        }
      ]
    },
    {
      "cell_type": "code",
      "metadata": {
        "id": "7r2Dz4h8dPEJ",
        "colab_type": "code",
        "colab": {
          "base_uri": "https://localhost:8080/",
          "height": 272
        },
        "outputId": "25829ba2-7f4c-4f93-c0c8-8690af349a8c"
      },
      "source": [
        "print(x ** j)"
      ],
      "execution_count": null,
      "outputs": [
        {
          "output_type": "stream",
          "text": [
            "\n",
            "[[-1.0000000e+01  1.0000000e+02 -1.0000000e+03 ...  9.9999998e+17\n",
            "  -1.0000000e+19  1.0000000e+20]\n",
            " [-9.8999996e+00  9.8009995e+01 -9.7029889e+02 ...  8.3451318e+17\n",
            "  -8.2616803e+18  8.1790629e+19]\n",
            " [-9.8000002e+00  9.6040001e+01 -9.4119208e+02 ...  6.9513558e+17\n",
            "  -6.8123289e+18  6.6760824e+19]\n",
            " ...\n",
            " [ 9.8000011e+00  9.6040024e+01  9.4119232e+02 ...  6.9513681e+17\n",
            "   6.8123415e+18  6.6760952e+19]\n",
            " [ 9.8999996e+00  9.8009995e+01  9.7029889e+02 ...  8.3451318e+17\n",
            "   8.2616803e+18  8.1790629e+19]\n",
            " [ 1.0000000e+01  1.0000000e+02  1.0000000e+03 ...  9.9999998e+17\n",
            "   1.0000000e+19  1.0000000e+20]]\n",
            "<NDArray 201x20 @cpu(0)>\n"
          ],
          "name": "stdout"
        }
      ]
    },
    {
      "cell_type": "code",
      "metadata": {
        "id": "OQM56lmzdxpI",
        "colab_type": "code",
        "colab": {}
      },
      "source": [
        "Xij = x ** j"
      ],
      "execution_count": null,
      "outputs": []
    },
    {
      "cell_type": "code",
      "metadata": {
        "id": "kot16Urvd5gA",
        "colab_type": "code",
        "colab": {
          "base_uri": "https://localhost:8080/",
          "height": 34
        },
        "outputId": "91fc0203-8298-46f2-aa41-0c80aa64d83c"
      },
      "source": [
        "Xij.shape"
      ],
      "execution_count": null,
      "outputs": [
        {
          "output_type": "execute_result",
          "data": {
            "text/plain": [
              "(201, 20)"
            ]
          },
          "metadata": {
            "tags": []
          },
          "execution_count": 35
        }
      ]
    },
    {
      "cell_type": "code",
      "metadata": {
        "id": "TVcexI7MeTow",
        "colab_type": "code",
        "colab": {
          "base_uri": "https://localhost:8080/",
          "height": 136
        },
        "outputId": "c5c09c96-f600-45cc-8b0f-68b74ae83435"
      },
      "source": [
        "print(Xij[0:5,:3])"
      ],
      "execution_count": null,
      "outputs": [
        {
          "output_type": "stream",
          "text": [
            "\n",
            "[[  -10.         100.       -1000.      ]\n",
            " [   -9.9         98.009995  -970.2989  ]\n",
            " [   -9.8         96.04      -941.1921  ]\n",
            " [   -9.7         94.09      -912.673   ]\n",
            " [   -9.6         92.16      -884.7361  ]]\n",
            "<NDArray 5x3 @cpu(0)>\n"
          ],
          "name": "stdout"
        }
      ]
    }
  ]
}